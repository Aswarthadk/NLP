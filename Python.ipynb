{
 "cells": [
  {
   "cell_type": "code",
   "execution_count": 1,
   "metadata": {},
   "outputs": [],
   "source": [
    "import numpy as np\n",
    "import pandas as pd\n",
    "import matplotlib.pyplot as plt\n",
    "import seaborn as sns\n",
    "import re"
   ]
  },
  {
   "cell_type": "code",
   "execution_count": 135,
   "metadata": {},
   "outputs": [],
   "source": [
    "from sklearn.model_selection import train_test_split\n",
    "from sklearn.feature_extraction.text import TfidfVectorizer\n",
    "from wordcloud import WordCloud, STOPWORDS\n",
    "from nltk import word_tokenize\n",
    "from nltk.corpus import stopwords"
   ]
  },
  {
   "cell_type": "code",
   "execution_count": 128,
   "metadata": {},
   "outputs": [],
   "source": [
    "class NLP_model():\n",
    "    \n",
    "    def __init__(self,):\n",
    "        self.a=None\n",
    "        \n",
    "    def text_clean(self,string):\n",
    "        string=re.sub(r'./8&^',' ',string)\n",
    "        string= re.sub(r\"[^\\w\\s]\", '',string)\n",
    "        string=re.sub(r'\\d',' ',string)\n",
    "        return string\n",
    "    \n",
    "    def remove_stopwords(self,string): \n",
    "        stop = set(stopwords.words('english'))\n",
    "        string=[i for i in string.lower().split() if i not in stop]\n",
    "        return string\n",
    "\n",
    "    def freq_plot(df,category=None):\n",
    "        df_1=df[df.category==1]\n",
    "        list1=list(df_1['review'].apply(lambda x: x.split()))\n",
    "        a=list1[0]\n",
    "        b=[a.count(i) for i in a]\n",
    "        word_freq_dict=dict(zip(a,b))\n",
    "        print(word_freq_dict)\n",
    "        a=sorted(word_freq_dict.items(), key=lambda kv: kv[1])\n",
    "        words_names=[]\n",
    "        words_count=[]\n",
    "        for (word, freq) in a:\n",
    "            #print (word, freq)\n",
    "            words_names.append(word)\n",
    "            words_count.append(freq)\n",
    "         #Plot histogram using matplotlib bar()\n",
    "        plt.xlabel('Top 10 Words')\n",
    "        plt.ylabel('Frequency')\n",
    "        plt.title('Plotting Word Frequency')\n",
    "        indexes = np.arange(len(words_names) )\n",
    "        width = .4\n",
    "        plt.bar(indexes, words_count, width)\n",
    "        plt.xticks(indexes + width * .4, words_names)\n",
    "        #plt.legend()\n",
    "        plt.tight_layout()\n",
    "        return plt.show()\n",
    "    \n",
    "\n",
    "    stopwords = set(STOPWORDS)\n",
    "\n",
    "    def show_wordcloud(self,data, title = None):\n",
    "        wordcloud = WordCloud(\n",
    "            background_color='white',\n",
    "            stopwords=stopwords,\n",
    "            max_words=200,\n",
    "            max_font_size=40, \n",
    "            scale=3,\n",
    "            random_state=1 \n",
    "        ).generate(str(data))\n",
    "\n",
    "        fig = plt.figure(1, figsize=(12, 12))\n",
    "        plt.axis('off')\n",
    "        if title: \n",
    "            fig.suptitle(title, fontsize=20)\n",
    "            fig.subplots_adjust(top=2.3)\n",
    "\n",
    "        plt.imshow(wordcloud)\n",
    "        return plt.show()\n",
    "\n",
    "\n",
    "    def train_test_split(self,data):\n",
    "        train, test = train_test_split(data, random_state=42, test_size=0.30, shuffle=True)\n",
    "\n",
    "        \n",
    "        vectorizer = TfidfVectorizer(strip_accents='unicode', analyzer='word', ngram_range=(1,3), norm='l2')\n",
    "        x_train=vectorizer.fit_transform(train)\n",
    "        #x_train=x_train.transform(x_train)\n",
    "        y_train=train.drop(labels = ['review'], axis=1)\n",
    "        \n",
    "        x_test = vectorizer.transform(test)\n",
    "        y_test = test.drop(labels = ['review'], axis=1)\n",
    "        \n",
    "        return x_train,y_train,x_test,y_test\n",
    "    \n",
    "    \n",
    "    def fit(self,):\n",
    "        # Create one-vs-rest logistic regression object\n",
    "        clf = LogisticRegression(random_state=0, multi_class='ovr')\n",
    "        model = clf.fit(X_std, y)\n",
    "        # Predict class\n",
    "        model.predict(new_observation)\n"
   ]
  },
  {
   "cell_type": "code",
   "execution_count": 115,
   "metadata": {},
   "outputs": [],
   "source": [
    "df['review']=df['review'].apply(NLP_model().text_clean)"
   ]
  },
  {
   "cell_type": "code",
   "execution_count": 114,
   "metadata": {},
   "outputs": [
    {
     "data": {
      "text/html": [
       "<div>\n",
       "<style scoped>\n",
       "    .dataframe tbody tr th:only-of-type {\n",
       "        vertical-align: middle;\n",
       "    }\n",
       "\n",
       "    .dataframe tbody tr th {\n",
       "        vertical-align: top;\n",
       "    }\n",
       "\n",
       "    .dataframe thead th {\n",
       "        text-align: right;\n",
       "    }\n",
       "</style>\n",
       "<table border=\"1\" class=\"dataframe\">\n",
       "  <thead>\n",
       "    <tr style=\"text-align: right;\">\n",
       "      <th></th>\n",
       "      <th>review</th>\n",
       "      <th>category</th>\n",
       "    </tr>\n",
       "  </thead>\n",
       "  <tbody>\n",
       "    <tr>\n",
       "      <th>0</th>\n",
       "      <td>movie    isnot</td>\n",
       "      <td>1</td>\n",
       "    </tr>\n",
       "    <tr>\n",
       "      <th>1</th>\n",
       "      <td>it is possible</td>\n",
       "      <td>2</td>\n",
       "    </tr>\n",
       "  </tbody>\n",
       "</table>\n",
       "</div>"
      ],
      "text/plain": [
       "              review  category\n",
       "0    movie    isnot          1\n",
       "1  it is possible            2"
      ]
     },
     "execution_count": 114,
     "metadata": {},
     "output_type": "execute_result"
    }
   ],
   "source": [
    "df"
   ]
  },
  {
   "cell_type": "code",
   "execution_count": 47,
   "metadata": {},
   "outputs": [
    {
     "data": {
      "image/png": "[encoded data removed]",
      "text/plain": [
       "<Figure size 864x864 with 1 Axes>"
      ]
     },
     "metadata": {
      "needs_background": "light"
     },
     "output_type": "display_data"
    }
   ],
   "source": [
    "NLP_model().show_wordcloud(df['review'])"
   ]
  },
  {
   "cell_type": "code",
   "execution_count": 48,
   "metadata": {},
   "outputs": [
    {
     "name": "stdout",
     "output_type": "stream",
     "text": [
      "{'movie': 1, 'isnot': 1}\n"
     ]
    },
    {
     "data": {
      "image/png": "[encoded data removed]",
      "text/plain": [
       "<Figure size 432x288 with 1 Axes>"
      ]
     },
     "metadata": {
      "needs_background": "light"
     },
     "output_type": "display_data"
    }
   ],
   "source": [
    "NLP_model.freq_plot(df=df)"
   ]
  },
  {
   "cell_type": "code",
   "execution_count": null,
   "metadata": {},
   "outputs": [],
   "source": [
    "# create a dataframe using texts and lables\n",
    "trainDF = pandas.DataFrame()\n",
    "trainDF['text'] = texts\n",
    "trainDF['label'] = labels"
   ]
  },
  {
   "cell_type": "code",
   "execution_count": null,
   "metadata": {},
   "outputs": [],
   "source": [
    "# split the dataset into training and validation datasets \n",
    "train_x, valid_x, train_y, valid_y = model_selection.train_test_split(trainDF['text'], trainDF['label'])\n",
    "\n",
    "# label encode the target variable \n",
    "encoder = preprocessing.LabelEncoder()\n",
    "train_y = encoder.fit_transform(train_y)\n",
    "valid_y = encoder.fit_transform(valid_y)"
   ]
  },
  {
   "cell_type": "code",
   "execution_count": null,
   "metadata": {},
   "outputs": [],
   "source": [
    "# create a count vectorizer object \n",
    "count_vect = CountVectorizer(analyzer='word', token_pattern=r'\\w{1,}')\n",
    "count_vect.fit(trainDF['text'])\n",
    "\n",
    "# transform the training and validation data using count vectorizer object\n",
    "xtrain_count =  count_vect.transform(train_x)\n",
    "xvalid_count =  count_vect.transform(valid_x)"
   ]
  },
  {
   "cell_type": "code",
   "execution_count": null,
   "metadata": {},
   "outputs": [],
   "source": [
    "# word level tf-idf\n",
    "tfidf_vect = TfidfVectorizer(analyzer='word', token_pattern=r'\\w{1,}', max_features=5000)\n",
    "tfidf_vect.fit(trainDF['text'])\n",
    "xtrain_tfidf =  tfidf_vect.transform(train_x)\n",
    "xvalid_tfidf =  tfidf_vect.transform(valid_x)"
   ]
  },
  {
   "cell_type": "code",
   "execution_count": null,
   "metadata": {},
   "outputs": [],
   "source": [
    "def train_model(classifier, feature_vector_train, label, feature_vector_valid, is_neural_net=False):\n",
    "    # fit the training dataset on the classifier\n",
    "    classifier.fit(feature_vector_train, label)\n",
    "    \n",
    "    # predict the labels on validation dataset\n",
    "    predictions = classifier.predict(feature_vector_valid)\n",
    "    \n",
    "    if is_neural_net:\n",
    "        predictions = predictions.argmax(axis=-1)\n",
    "    \n",
    "    return metrics.accuracy_score(predictions, valid_y)"
   ]
  },
  {
   "cell_type": "code",
   "execution_count": null,
   "metadata": {},
   "outputs": [],
   "source": [
    "# Naive Bayes on Count Vectors\n",
    "accuracy = train_model(naive_bayes.MultinomialNB(), xtrain_count, train_y, xvalid_count)\n",
    "print \"NB, Count Vectors: \", accuracy"
   ]
  }
 ],
 "metadata": {
  "kernelspec": {
   "display_name": "Python 3",
   "language": "python",
   "name": "python3"
  },
  "language_info": {
   "codemirror_mode": {
    "name": "ipython",
    "version": 3
   },
   "file_extension": ".py",
   "mimetype": "text/x-python",
   "name": "python",
   "nbconvert_exporter": "python",
   "pygments_lexer": "ipython3",
   "version": "3.6.8"
  }
 },
 "nbformat": 4,
 "nbformat_minor": 2
}
